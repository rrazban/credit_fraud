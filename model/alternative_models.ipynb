{
  "cells": [
    {
      "cell_type": "markdown",
      "metadata": {
        "id": "8wPhHRPDiMwq"
      },
      "source": [
        "#1) Download the  data"
      ]
    },
    {
      "cell_type": "code",
      "execution_count": 1,
      "metadata": {
        "colab": {
          "base_uri": "https://localhost:8080/"
        },
        "id": "cYgFU6DDbcFs",
        "outputId": "45dca9f6-f471-4059-c4d6-9a1447af5b5c"
      },
      "outputs": [
        {
          "output_type": "stream",
          "name": "stdout",
          "text": [
            "Path to dataset files: /kaggle/input/fraud-detection\n"
          ]
        }
      ],
      "source": [
        "import kagglehub\n",
        "\n",
        "# Download latest version\n",
        "path = kagglehub.dataset_download(\"kartik2112/fraud-detection\")\n",
        "\n",
        "print(\"Path to dataset files:\", path)"
      ]
    },
    {
      "cell_type": "code",
      "execution_count": 2,
      "metadata": {
        "id": "TtTWjoXwbhWq"
      },
      "outputs": [],
      "source": [
        "import pandas as pd\n",
        "import numpy as np\n",
        "\n",
        "train = pd.read_csv('{0}/fraudTrain.csv'.format(path))\n",
        "test = pd.read_csv('{0}/fraudTest.csv'.format(path))"
      ]
    },
    {
      "cell_type": "markdown",
      "metadata": {
        "id": "GsALZ1LHdIxS"
      },
      "source": [
        "#2a) Transform the data\n",
        "\n",
        "1. Obtain the local time of day\n",
        "\n",
        "2. Transform date of birth to age\n",
        "\n"
      ]
    },
    {
      "cell_type": "code",
      "execution_count": 3,
      "metadata": {
        "id": "v24Q1I7VT2EY"
      },
      "outputs": [],
      "source": [
        "#1) local transaction time\n",
        "\n",
        "state_timezone_map = {\n",
        "    'AL': 'America/Chicago',\n",
        "    'AK': 'America/Anchorage',\n",
        "    'AZ': 'America/Phoenix',       # No DST\n",
        "    'AR': 'America/Chicago',\n",
        "    'CA': 'America/Los_Angeles',\n",
        "    'CO': 'America/Denver',\n",
        "    'CT': 'America/New_York',\n",
        "    'DE': 'America/New_York',\n",
        "    'FL': 'America/New_York',      # Most of Florida\n",
        "    'GA': 'America/New_York',\n",
        "    'HI': 'Pacific/Honolulu',      # No DST\n",
        "    'ID': 'America/Boise',         # Split between MT and PT\n",
        "    'IL': 'America/Chicago',\n",
        "    'IN': 'America/Indiana/Indianapolis',\n",
        "    'IA': 'America/Chicago',\n",
        "    'KS': 'America/Chicago',\n",
        "    'KY': 'America/New_York',\n",
        "    'LA': 'America/Chicago',\n",
        "    'ME': 'America/New_York',\n",
        "    'MD': 'America/New_York',\n",
        "    'MA': 'America/New_York',\n",
        "    'MI': 'America/Detroit',\n",
        "    'MN': 'America/Chicago',\n",
        "    'MS': 'America/Chicago',\n",
        "    'MO': 'America/Chicago',\n",
        "    'MT': 'America/Denver',\n",
        "    'NE': 'America/Chicago',\n",
        "    'NV': 'America/Los_Angeles',\n",
        "    'NH': 'America/New_York',\n",
        "    'NJ': 'America/New_York',\n",
        "    'NM': 'America/Denver',\n",
        "    'NY': 'America/New_York',\n",
        "    'NC': 'America/New_York',\n",
        "    'ND': 'America/Chicago',\n",
        "    'OH': 'America/New_York',\n",
        "    'OK': 'America/Chicago',\n",
        "    'OR': 'America/Los_Angeles',\n",
        "    'PA': 'America/New_York',\n",
        "    'RI': 'America/New_York',\n",
        "    'SC': 'America/New_York',\n",
        "    'SD': 'America/Chicago',\n",
        "    'TN': 'America/Chicago',\n",
        "    'TX': 'America/Chicago',\n",
        "    'UT': 'America/Denver',\n",
        "    'VT': 'America/New_York',\n",
        "    'VA': 'America/New_York',\n",
        "    'WA': 'America/Los_Angeles',\n",
        "    'WV': 'America/New_York',\n",
        "    'WI': 'America/Chicago',\n",
        "    'WY': 'America/Denver'\n",
        "}\n",
        "\n",
        "def local_time(df):\n",
        "    df = df.copy()\n",
        "\n",
        "    df['timezone'] = df['state'].map(state_timezone_map)\n",
        "    df['trans_date_trans_time'] = pd.to_datetime(df['trans_date_trans_time'])\n",
        "    df['trans_date_trans_time'] = df['trans_date_trans_time'].dt.tz_localize('UTC')\n",
        "\n",
        "    local_dt = df.apply(\n",
        "        lambda row: row['trans_date_trans_time'].tz_convert(row['timezone']) if pd.notnull(row['timezone']) else pd.NaT,\n",
        "        axis=1\n",
        "    )\n",
        "\n",
        "    time_in_seconds = local_dt.apply(\n",
        "        lambda dt: dt.hour * 3600 + dt.minute * 60 + dt.second if pd.notnull(dt) else None\n",
        "    )\n",
        "\n",
        "    seconds_in_day = 24 * 60 * 60\n",
        "    seconds_norm = time_in_seconds / seconds_in_day\n",
        "\n",
        "    #acount for circularity of time of day\n",
        "    ##i.e. 12:59pm is close to 1pm\n",
        "    df['time_sin'] = np.sin(2 * np.pi * seconds_norm)\n",
        "    df['time_cos'] = np.cos(2 * np.pi * seconds_norm)\n",
        "\n",
        "    return df[['time_sin', 'time_cos']]\n",
        "\n",
        "\n",
        "train[['time_sin', 'time_cos']] = local_time(train)\n",
        "test[['time_sin', 'time_cos']] = local_time(test)"
      ]
    },
    {
      "cell_type": "code",
      "execution_count": 4,
      "metadata": {
        "id": "XCf3oGWfbOp4"
      },
      "outputs": [],
      "source": [
        "#2) Transform date of birth to age in years\n",
        "\n",
        "def get_age(df):\n",
        "\n",
        "    today = pd.Timestamp('2020-01-01')\n",
        "    #could have reference 'today' be transaction time but doesn't matter much because transactions are all within two years\n",
        "\n",
        "    df['dob'] = pd.to_datetime(df['dob'])\n",
        "    df['age'] = df['dob'].apply(lambda x: today.year - x.year - ((today.month, today.day) < (x.month, x.day)))\n",
        "\n",
        "    return df['age']\n",
        "\n",
        "train['age'] = get_age(train)\n",
        "test['age'] = get_age(test)"
      ]
    },
    {
      "cell_type": "markdown",
      "metadata": {
        "id": "rqB63zQFE-g2"
      },
      "source": [
        "#2b) Transform the data\n",
        "####Use one-shot encoding since not all models can work with categorical data."
      ]
    },
    {
      "cell_type": "code",
      "execution_count": 5,
      "metadata": {
        "id": "XZ8Z0zbAFLjt"
      },
      "outputs": [],
      "source": [
        "#columns to be removed\n",
        "no_need = ['cc_num', 'Unnamed: 0','street', 'city',  'dob','job','first',\n",
        "           'last','trans_num','trans_date_trans_time', 'lat', 'long', 'merch_lat',\n",
        "           'merch_long', 'unix_time','merchant','state']\n",
        "\n",
        "\n",
        "# Drop unnecessary columns\n",
        "sparse_train = train.drop(columns=no_need)\n",
        "sparse_test = test.drop(columns=no_need)\n",
        "\n",
        "# Specify categorical columns to encode\n",
        "categorical_columns = ['gender', 'category']\n",
        "\n",
        "# Concatenate train and test temporarily to ensure consistent encoding\n",
        "combined = pd.concat([sparse_train, sparse_test], keys=[\"train\", \"test\"])\n",
        "\n",
        "# One-hot encode the specified categorical columns\n",
        "combined = pd.get_dummies(combined, columns=categorical_columns, drop_first=False)\n",
        "\n",
        "# Split back into train and test\n",
        "sparse_train = combined.xs(\"train\")\n",
        "sparse_test = combined.xs(\"test\")\n",
        "\n",
        "#setup features (X) and the classification (y)\n",
        "y_train, X_train  = sparse_train['is_fraud'], sparse_train.drop(columns='is_fraud')\n",
        "y_test, X_test = sparse_test['is_fraud'], sparse_test.drop(columns='is_fraud')"
      ]
    },
    {
      "cell_type": "markdown",
      "metadata": {
        "id": "dvvRw4uP0wS8"
      },
      "source": [
        "#3) Explore the data"
      ]
    },
    {
      "cell_type": "markdown",
      "source": [
        "This section is skipped. See `features/one_shot/one_shot.ipynb` for the details."
      ],
      "metadata": {
        "id": "r1Wfb731K9ng"
      }
    },
    {
      "cell_type": "markdown",
      "metadata": {
        "id": "TvBmDf9Z01oj"
      },
      "source": [
        "#4) Alright, time for some modeling!\n",
        "1. Catboost\n",
        "2. Random Forest\n"
      ]
    },
    {
      "cell_type": "code",
      "source": [
        "!pip install catboost"
      ],
      "metadata": {
        "colab": {
          "base_uri": "https://localhost:8080/"
        },
        "id": "erLmXGximOCg",
        "outputId": "22345b2a-673a-47f5-d714-4c5e2352edac"
      },
      "execution_count": 7,
      "outputs": [
        {
          "output_type": "stream",
          "name": "stdout",
          "text": [
            "Collecting catboost\n",
            "  Downloading catboost-1.2.8-cp311-cp311-manylinux2014_x86_64.whl.metadata (1.2 kB)\n",
            "Requirement already satisfied: graphviz in /usr/local/lib/python3.11/dist-packages (from catboost) (0.20.3)\n",
            "Requirement already satisfied: matplotlib in /usr/local/lib/python3.11/dist-packages (from catboost) (3.10.0)\n",
            "Requirement already satisfied: numpy<3.0,>=1.16.0 in /usr/local/lib/python3.11/dist-packages (from catboost) (2.0.2)\n",
            "Requirement already satisfied: pandas>=0.24 in /usr/local/lib/python3.11/dist-packages (from catboost) (2.2.2)\n",
            "Requirement already satisfied: scipy in /usr/local/lib/python3.11/dist-packages (from catboost) (1.15.3)\n",
            "Requirement already satisfied: plotly in /usr/local/lib/python3.11/dist-packages (from catboost) (5.24.1)\n",
            "Requirement already satisfied: six in /usr/local/lib/python3.11/dist-packages (from catboost) (1.17.0)\n",
            "Requirement already satisfied: python-dateutil>=2.8.2 in /usr/local/lib/python3.11/dist-packages (from pandas>=0.24->catboost) (2.9.0.post0)\n",
            "Requirement already satisfied: pytz>=2020.1 in /usr/local/lib/python3.11/dist-packages (from pandas>=0.24->catboost) (2025.2)\n",
            "Requirement already satisfied: tzdata>=2022.7 in /usr/local/lib/python3.11/dist-packages (from pandas>=0.24->catboost) (2025.2)\n",
            "Requirement already satisfied: contourpy>=1.0.1 in /usr/local/lib/python3.11/dist-packages (from matplotlib->catboost) (1.3.2)\n",
            "Requirement already satisfied: cycler>=0.10 in /usr/local/lib/python3.11/dist-packages (from matplotlib->catboost) (0.12.1)\n",
            "Requirement already satisfied: fonttools>=4.22.0 in /usr/local/lib/python3.11/dist-packages (from matplotlib->catboost) (4.58.1)\n",
            "Requirement already satisfied: kiwisolver>=1.3.1 in /usr/local/lib/python3.11/dist-packages (from matplotlib->catboost) (1.4.8)\n",
            "Requirement already satisfied: packaging>=20.0 in /usr/local/lib/python3.11/dist-packages (from matplotlib->catboost) (24.2)\n",
            "Requirement already satisfied: pillow>=8 in /usr/local/lib/python3.11/dist-packages (from matplotlib->catboost) (11.2.1)\n",
            "Requirement already satisfied: pyparsing>=2.3.1 in /usr/local/lib/python3.11/dist-packages (from matplotlib->catboost) (3.2.3)\n",
            "Requirement already satisfied: tenacity>=6.2.0 in /usr/local/lib/python3.11/dist-packages (from plotly->catboost) (9.1.2)\n",
            "Downloading catboost-1.2.8-cp311-cp311-manylinux2014_x86_64.whl (99.2 MB)\n",
            "\u001b[2K   \u001b[90m━━━━━━━━━━━━━━━━━━━━━━━━━━━━━━━━━━━━━━━━\u001b[0m \u001b[32m99.2/99.2 MB\u001b[0m \u001b[31m11.2 MB/s\u001b[0m eta \u001b[36m0:00:00\u001b[0m\n",
            "\u001b[?25hInstalling collected packages: catboost\n",
            "Successfully installed catboost-1.2.8\n"
          ]
        }
      ]
    },
    {
      "cell_type": "code",
      "execution_count": 8,
      "metadata": {
        "colab": {
          "base_uri": "https://localhost:8080/"
        },
        "id": "3WIaDJuC2Q-d",
        "outputId": "b5bc3fb6-ca1f-41d3-b2bc-476f89c0728e"
      },
      "outputs": [
        {
          "output_type": "stream",
          "name": "stdout",
          "text": [
            "              precision    recall  f1-score   support\n",
            "\n",
            "           0       1.00      1.00      1.00    553574\n",
            "           1       0.89      0.75      0.81      2145\n",
            "\n",
            "    accuracy                           1.00    555719\n",
            "   macro avg       0.94      0.87      0.90    555719\n",
            "weighted avg       1.00      1.00      1.00    555719\n",
            "\n"
          ]
        }
      ],
      "source": [
        "#1) Catboost\n",
        "\n",
        "from catboost import CatBoostClassifier\n",
        "from sklearn.metrics import classification_report\n",
        "\n",
        "# Train CatBoost classifier\n",
        "clf_cat = CatBoostClassifier(\n",
        "    task_type='GPU',  # Use GPU if available\n",
        "    devices='0',      # GPU ID\n",
        "    verbose=0,        # Suppress output during training\n",
        "    eval_metric='Logloss'\n",
        ")\n",
        "clf_cat.fit(X_train, y_train)\n",
        "\n",
        "# Predict and evaluate\n",
        "y_pred_cat = clf_cat.predict(X_test)\n",
        "\n",
        "print(classification_report(y_test, y_pred_cat))\n"
      ]
    },
    {
      "cell_type": "code",
      "source": [
        "#1) Catboost with reweights\n",
        "\n",
        "counts = y_train.value_counts()\n",
        "weight_for_class_0 = 1.0\n",
        "weight_for_class_1 = counts.get(0, 0) / counts.get(1, 1)  # reweight class 1 (e.g., fraud)\n",
        "\n",
        "class_weights = [weight_for_class_0, weight_for_class_1]\n",
        "\n",
        "# Train CatBoost classifier\n",
        "clf_cat = CatBoostClassifier(\n",
        "    task_type='GPU',\n",
        "    devices='0',\n",
        "    verbose=0,\n",
        "    eval_metric='Logloss',\n",
        "    class_weights=class_weights\n",
        ")\n",
        "clf_cat.fit(X_train, y_train)\n",
        "\n",
        "# Predict and evaluate\n",
        "y_pred_cat = clf_cat.predict(X_test)\n",
        "\n",
        "print(classification_report(y_test, y_pred_cat))\n"
      ],
      "metadata": {
        "colab": {
          "base_uri": "https://localhost:8080/"
        },
        "id": "n2XHrA8rjRC3",
        "outputId": "f19dd27c-1386-48b2-ebd3-937388027f89"
      },
      "execution_count": 9,
      "outputs": [
        {
          "output_type": "stream",
          "name": "stdout",
          "text": [
            "              precision    recall  f1-score   support\n",
            "\n",
            "           0       1.00      0.98      0.99    553574\n",
            "           1       0.17      0.97      0.28      2145\n",
            "\n",
            "    accuracy                           0.98    555719\n",
            "   macro avg       0.58      0.98      0.64    555719\n",
            "weighted avg       1.00      0.98      0.99    555719\n",
            "\n"
          ]
        }
      ]
    },
    {
      "cell_type": "code",
      "source": [
        "#2) Random Forest\n",
        "#no gpu implementation so have to be patient...\n",
        "from sklearn.ensemble import RandomForestClassifier\n",
        "\n",
        "\n",
        "# Train Random Forest classifier\n",
        "clf_rf = RandomForestClassifier(\n",
        "    n_estimators=100,\n",
        "    random_state=42,\n",
        "    n_jobs=-1\n",
        ")\n",
        "clf_rf.fit(X_train, y_train)\n",
        "\n",
        "# Predict and evaluate\n",
        "y_pred_rf = clf_rf.predict(X_test)\n",
        "\n",
        "print(classification_report(y_test, y_pred_rf))\n"
      ],
      "metadata": {
        "colab": {
          "base_uri": "https://localhost:8080/"
        },
        "id": "Gl42z-cEmhoN",
        "outputId": "9da4c67e-e8de-496f-f644-3d96f1bf2796"
      },
      "execution_count": 10,
      "outputs": [
        {
          "output_type": "stream",
          "name": "stdout",
          "text": [
            "              precision    recall  f1-score   support\n",
            "\n",
            "           0       1.00      1.00      1.00    553574\n",
            "           1       0.92      0.73      0.81      2145\n",
            "\n",
            "    accuracy                           1.00    555719\n",
            "   macro avg       0.96      0.86      0.91    555719\n",
            "weighted avg       1.00      1.00      1.00    555719\n",
            "\n"
          ]
        }
      ]
    },
    {
      "cell_type": "code",
      "source": [
        "#2) Random Forest with reweights\n",
        "\n",
        "# Compute class weights (similar to scale_pos_weight logic)\n",
        "counts = y_train.value_counts()\n",
        "weight_for_class_0 = 1.0\n",
        "weight_for_class_1 = counts.get(0, 0) / counts.get(1, 1)  # upweight positive class (e.g., fraud)\n",
        "\n",
        "class_weights = {\n",
        "    0: weight_for_class_0,\n",
        "    1: weight_for_class_1\n",
        "}\n",
        "\n",
        "# Train Random Forest classifier\n",
        "clf_rf = RandomForestClassifier(\n",
        "    class_weight=class_weights,\n",
        "    n_estimators=100,\n",
        "    random_state=42,\n",
        "    n_jobs=-1\n",
        ")\n",
        "clf_rf.fit(X_train, y_train)\n",
        "\n",
        "# Predict and evaluate\n",
        "y_pred_rf = clf_rf.predict(X_test)\n",
        "\n",
        "print(classification_report(y_test, y_pred_rf))\n"
      ],
      "metadata": {
        "colab": {
          "base_uri": "https://localhost:8080/"
        },
        "id": "UIMlTehSmihI",
        "outputId": "f9ce4247-c29f-4c4f-dba4-c853dc1b91dc"
      },
      "execution_count": 11,
      "outputs": [
        {
          "output_type": "stream",
          "name": "stdout",
          "text": [
            "              precision    recall  f1-score   support\n",
            "\n",
            "           0       1.00      1.00      1.00    553574\n",
            "           1       0.93      0.72      0.81      2145\n",
            "\n",
            "    accuracy                           1.00    555719\n",
            "   macro avg       0.96      0.86      0.90    555719\n",
            "weighted avg       1.00      1.00      1.00    555719\n",
            "\n"
          ]
        }
      ]
    },
    {
      "cell_type": "markdown",
      "source": [
        "The recall of Catboost with reweights does better that of XGBoost with reweights (poorer precision though). We can get similiar results for precision and recall with XGBoost when optimizing the parameters for recall.\n",
        "\n",
        "Interestingly, Random Forest results are not affected by reweighting. Results are essentially the same in both cases."
      ],
      "metadata": {
        "id": "zWeTEqX2jgNw"
      }
    },
    {
      "cell_type": "code",
      "execution_count": null,
      "metadata": {
        "id": "3SKTzVtjovoi"
      },
      "outputs": [],
      "source": []
    }
  ],
  "metadata": {
    "colab": {
      "provenance": [],
      "gpuType": "T4"
    },
    "kernelspec": {
      "display_name": "Python 3",
      "name": "python3"
    },
    "language_info": {
      "name": "python"
    },
    "accelerator": "GPU"
  },
  "nbformat": 4,
  "nbformat_minor": 0
}